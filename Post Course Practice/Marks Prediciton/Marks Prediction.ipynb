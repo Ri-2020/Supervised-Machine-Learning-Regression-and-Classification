{
 "cells": [
  {
   "cell_type": "code",
   "execution_count": 1,
   "id": "b076fa97",
   "metadata": {},
   "outputs": [],
   "source": [
    "import numpy as np\n",
    "import pandas as pd\n",
    "import matplotlib.pyplot as plt"
   ]
  },
  {
   "cell_type": "code",
   "execution_count": 4,
   "id": "3ed46c68",
   "metadata": {},
   "outputs": [
    {
     "data": {
      "text/html": [
       "<div>\n",
       "<style scoped>\n",
       "    .dataframe tbody tr th:only-of-type {\n",
       "        vertical-align: middle;\n",
       "    }\n",
       "\n",
       "    .dataframe tbody tr th {\n",
       "        vertical-align: top;\n",
       "    }\n",
       "\n",
       "    .dataframe thead th {\n",
       "        text-align: right;\n",
       "    }\n",
       "</style>\n",
       "<table border=\"1\" class=\"dataframe\">\n",
       "  <thead>\n",
       "    <tr style=\"text-align: right;\">\n",
       "      <th></th>\n",
       "      <th>number_courses</th>\n",
       "      <th>time_study</th>\n",
       "      <th>Marks</th>\n",
       "    </tr>\n",
       "  </thead>\n",
       "  <tbody>\n",
       "    <tr>\n",
       "      <th>0</th>\n",
       "      <td>3</td>\n",
       "      <td>4.508</td>\n",
       "      <td>19.202</td>\n",
       "    </tr>\n",
       "    <tr>\n",
       "      <th>1</th>\n",
       "      <td>4</td>\n",
       "      <td>0.096</td>\n",
       "      <td>7.734</td>\n",
       "    </tr>\n",
       "    <tr>\n",
       "      <th>2</th>\n",
       "      <td>4</td>\n",
       "      <td>3.133</td>\n",
       "      <td>13.811</td>\n",
       "    </tr>\n",
       "    <tr>\n",
       "      <th>3</th>\n",
       "      <td>6</td>\n",
       "      <td>7.909</td>\n",
       "      <td>53.018</td>\n",
       "    </tr>\n",
       "    <tr>\n",
       "      <th>4</th>\n",
       "      <td>8</td>\n",
       "      <td>7.811</td>\n",
       "      <td>55.299</td>\n",
       "    </tr>\n",
       "  </tbody>\n",
       "</table>\n",
       "</div>"
      ],
      "text/plain": [
       "   number_courses  time_study   Marks\n",
       "0               3       4.508  19.202\n",
       "1               4       0.096   7.734\n",
       "2               4       3.133  13.811\n",
       "3               6       7.909  53.018\n",
       "4               8       7.811  55.299"
      ]
     },
     "execution_count": 4,
     "metadata": {},
     "output_type": "execute_result"
    }
   ],
   "source": [
    "df = pd.read_csv(\"./Student_Marks.csv\") \n",
    "df.head()"
   ]
  },
  {
   "cell_type": "code",
   "execution_count": 5,
   "id": "d43e3c8a",
   "metadata": {},
   "outputs": [
    {
     "data": {
      "text/plain": [
       "100"
      ]
     },
     "execution_count": 5,
     "metadata": {},
     "output_type": "execute_result"
    }
   ],
   "source": [
    "df[\"time_study\"].count()"
   ]
  },
  {
   "cell_type": "code",
   "execution_count": 6,
   "id": "a0ff94e4",
   "metadata": {},
   "outputs": [
    {
     "data": {
      "text/plain": [
       "number_courses    0\n",
       "time_study        0\n",
       "Marks             0\n",
       "dtype: int64"
      ]
     },
     "execution_count": 6,
     "metadata": {},
     "output_type": "execute_result"
    }
   ],
   "source": [
    "df.isnull().sum()      # shows of there is any null value in data set"
   ]
  },
  {
   "cell_type": "code",
   "execution_count": 8,
   "id": "19f71b52",
   "metadata": {},
   "outputs": [
    {
     "data": {
      "image/png": "[encoded data removed]",
      "text/plain": [
       "<Figure size 432x288 with 1 Axes>"
      ]
     },
     "metadata": {
      "needs_background": "light"
     },
     "output_type": "display_data"
    }
   ],
   "source": [
    "plt.scatter(df[\"time_study\"], df[\"Marks\"])\n",
    "plt.show()  #visualize data to find the best machine Learning model to fit in the data"
   ]
  },
  {
   "cell_type": "code",
   "execution_count": 35,
   "id": "6aa8ac09",
   "metadata": {},
   "outputs": [
    {
     "data": {
      "image/png": "[encoded data removed]",
      "text/plain": [
       "<Figure size 432x288 with 1 Axes>"
      ]
     },
     "metadata": {
      "needs_background": "light"
     },
     "output_type": "display_data"
    }
   ],
   "source": [
    "x = np.array(df[\"time_study\"])\n",
    "z = np.array(df[\"Marks\"])\n",
    "y = np.array(df[\"number_courses\"])\n",
    "w = np.array([1,1])\n",
    "b = 0\n",
    "# m, b = np.polyfit(x, y, 1)\n",
    "x =[]\n",
    "z = []\n",
    "for i in range(0, 9):\n",
    "    x.append(i)\n",
    "    z.append((i+0.5)**(1.97))\n",
    "plt.scatter(df[\"time_study\"], df[\"Marks\"])\n",
    "plt.plot(x, z)\n",
    "plt.show()"
   ]
  },
  {
   "cell_type": "code",
   "execution_count": 36,
   "id": "e16b145c",
   "metadata": {},
   "outputs": [],
   "source": [
    "def cost(x, y ,w1 , w2,b):\n",
    "    return (w1*x[0] + w2*x[1] + b) - y"
   ]
  },
  {
   "cell_type": "code",
   "execution_count": 38,
   "id": "91a8628b",
   "metadata": {},
   "outputs": [
    {
     "data": {
      "text/plain": [
       "19.202"
      ]
     },
     "execution_count": 38,
     "metadata": {},
     "output_type": "execute_result"
    }
   ],
   "source": [
    "df[\"Marks\"][0]"
   ]
  },
  {
   "cell_type": "code",
   "execution_count": 40,
   "id": "51f9e78b",
   "metadata": {},
   "outputs": [
    {
     "data": {
      "text/plain": [
       "[[3, 4.508],\n",
       " [4, 0.096],\n",
       " [4, 3.133],\n",
       " [6, 7.909],\n",
       " [8, 7.811],\n",
       " [6, 3.211],\n",
       " [3, 6.063],\n",
       " [5, 3.413],\n",
       " [4, 4.41],\n",
       " [3, 6.173],\n",
       " [3, 7.353],\n",
       " [7, 0.423],\n",
       " [7, 4.218],\n",
       " [3, 4.274],\n",
       " [3, 2.908],\n",
       " [4, 4.26],\n",
       " [5, 5.719],\n",
       " [8, 6.08],\n",
       " [6, 7.711],\n",
       " [8, 3.977],\n",
       " [4, 4.733],\n",
       " [6, 6.126],\n",
       " [5, 2.051],\n",
       " [7, 4.875],\n",
       " [4, 3.635],\n",
       " [3, 1.407],\n",
       " [7, 0.508],\n",
       " [8, 4.378],\n",
       " [5, 0.156],\n",
       " [4, 1.299],\n",
       " [8, 3.864],\n",
       " [3, 1.923],\n",
       " [8, 0.932],\n",
       " [6, 6.594],\n",
       " [3, 4.083],\n",
       " [3, 7.543],\n",
       " [4, 2.966],\n",
       " [6, 7.283],\n",
       " [7, 6.533],\n",
       " [6, 7.775],\n",
       " [4, 0.14],\n",
       " [6, 2.754],\n",
       " [6, 3.591],\n",
       " [5, 1.557],\n",
       " [4, 1.954],\n",
       " [3, 2.061],\n",
       " [4, 3.797],\n",
       " [4, 4.779],\n",
       " [3, 5.635],\n",
       " [5, 3.913],\n",
       " [6, 6.703],\n",
       " [6, 4.13],\n",
       " [4, 0.771],\n",
       " [7, 6.049],\n",
       " [8, 7.591],\n",
       " [7, 2.913],\n",
       " [8, 7.641],\n",
       " [7, 7.649],\n",
       " [3, 6.198],\n",
       " [8, 7.468],\n",
       " [6, 0.376],\n",
       " [4, 2.438],\n",
       " [6, 3.606],\n",
       " [3, 4.869],\n",
       " [7, 0.13],\n",
       " [6, 2.142],\n",
       " [4, 5.473],\n",
       " [3, 0.55],\n",
       " [4, 1.395],\n",
       " [6, 3.948],\n",
       " [4, 3.736],\n",
       " [5, 2.518],\n",
       " [3, 4.633],\n",
       " [3, 1.629],\n",
       " [4, 6.954],\n",
       " [3, 0.803],\n",
       " [5, 6.379],\n",
       " [8, 5.985],\n",
       " [7, 7.451],\n",
       " [3, 0.805],\n",
       " [7, 7.957],\n",
       " [8, 2.262],\n",
       " [4, 7.41],\n",
       " [5, 3.197],\n",
       " [8, 1.982],\n",
       " [8, 6.201],\n",
       " [7, 4.067],\n",
       " [3, 1.033],\n",
       " [5, 1.803],\n",
       " [7, 6.376],\n",
       " [7, 4.182],\n",
       " [8, 2.73],\n",
       " [4, 5.027],\n",
       " [8, 6.471],\n",
       " [8, 3.919],\n",
       " [6, 3.561],\n",
       " [3, 0.301],\n",
       " [4, 7.163],\n",
       " [7, 0.309],\n",
       " [3, 6.335]]"
      ]
     },
     "execution_count": 40,
     "metadata": {},
     "output_type": "execute_result"
    }
   ],
   "source": [
    "x = []\n",
    "for i in range(100):\n",
    "    x.append([df[\"number_courses\"][i], df[\"time_study\"][i]])\n",
    "x\n",
    "    \n",
    "    "
   ]
  },
  {
   "cell_type": "code",
   "execution_count": 74,
   "id": "8626d0cb",
   "metadata": {},
   "outputs": [],
   "source": [
    "w = np.array([1,1])\n",
    "b = 1\n",
    "y = df[\"Marks\"]\n",
    "\n",
    "def cost(w,b,m,y,x):\n",
    "    return (np.dot(x,w)+b)\n",
    "\n",
    "def gradient(x ,w,b,y,m):\n",
    "    yy = np.array([])\n",
    "    fwb = cost(w,b,m,y,x)\n",
    "    sum = np.array([0, 0])\n",
    "    for i in range(100):\n",
    "        sum = sum+ np.dot((fwb[i] - y[i]),x[i])\n",
    "    sum = 0.001*(sum/m)\n",
    "    w = w-sum\n",
    "    sumb = 0\n",
    "    for i in range(100):\n",
    "        sumb= sumb +(fwb[i]-y[i])\n",
    "    sumb = 0.001*(sumb/m)\n",
    "    return w , sumb\n",
    "        \n",
    "\n",
    "\n",
    "        \n",
    "#         yy.append(np.dot((cost(w,b,m,y,x) - y) , x))\n",
    "#     return (1/m)*np.dot((cost(w,b,m,y,x) - y) , x)"
   ]
  },
  {
   "cell_type": "code",
   "execution_count": 75,
   "id": "0b3775b0",
   "metadata": {},
   "outputs": [
    {
     "data": {
      "text/plain": [
       "True"
      ]
     },
     "execution_count": 75,
     "metadata": {},
     "output_type": "execute_result"
    }
   ],
   "source": [
    "w.all()"
   ]
  },
  {
   "cell_type": "code",
   "execution_count": 76,
   "id": "d3e6e123",
   "metadata": {},
   "outputs": [
    {
     "data": {
      "text/plain": [
       "1"
      ]
     },
     "execution_count": 76,
     "metadata": {},
     "output_type": "execute_result"
    }
   ],
   "source": [
    "w[0]"
   ]
  },
  {
   "cell_type": "code",
   "execution_count": 77,
   "id": "9ba1ae43",
   "metadata": {},
   "outputs": [
    {
     "name": "stdout",
     "output_type": "stream",
     "text": [
      "1000 :  [0.88522091 5.00931605]   :   [0.88539339 5.00910555]   :   0.0006896097550253119\n",
      "2000 :  [0.84115246 5.06309633]   :   [0.84115624 5.06309172]   :   0.0006756371053249621\n",
      "3000 :  [0.84018701 5.06427454]   :   [0.8401871  5.06427444]   :   0.0006753309932831053\n",
      "4000 :  [0.84016586 5.06430036]   :   [0.84016586 5.06430035]   :   0.0006753242869973073\n",
      "5000 :  [0.8401654  5.06430092]   :   [0.8401654  5.06430092]   :   0.0006753241400763733\n",
      "6000 :  [0.84016539 5.06430093]   :   [0.84016539 5.06430093]   :   0.0006753241368576298\n",
      "7000 :  [0.84016539 5.06430093]   :   [0.84016539 5.06430093]   :   0.0006753241367871167\n",
      "8000 :  [0.84016539 5.06430093]   :   [0.84016539 5.06430093]   :   0.0006753241367855886\n",
      "8248 :  [0.84016539 5.06430093]   :   [0.84016539 5.06430093]   :   0.0006753241367855257\n"
     ]
    }
   ],
   "source": [
    "i = 0\n",
    "while True:\n",
    "    i = i+1\n",
    "#     print(i , end=\" \")\n",
    "    nw, nb = gradient(x, w, b, y, 100)\n",
    "    if(i%1000 == 0):\n",
    "        print(i , \": \", nw,\"  :  \",w, \"  :  \" , b)\n",
    "    if(i == 10000):\n",
    "        print(i)\n",
    "        break\n",
    "    if(np.array_equal(nw,w) and b == nb):\n",
    "        print(i , \": \", nw,\"  :  \",w, \"  :  \" , b)\n",
    "        break\n",
    "    else:\n",
    "        w = nw\n",
    "        b = nb\n",
    "    "
   ]
  },
  {
   "cell_type": "code",
   "execution_count": 78,
   "id": "8e9cb15c",
   "metadata": {},
   "outputs": [],
   "source": [
    "def predict(x):\n",
    "    return x[0]*w[0]+x[1]*w[1] + b\n"
   ]
  },
  {
   "cell_type": "code",
   "execution_count": 79,
   "id": "11237696",
   "metadata": {},
   "outputs": [
    {
     "data": {
      "text/plain": [
       "25.351040097640485"
      ]
     },
     "execution_count": 79,
     "metadata": {},
     "output_type": "execute_result"
    }
   ],
   "source": [
    "predict([3, 4.508])"
   ]
  },
  {
   "cell_type": "code",
   "execution_count": 87,
   "id": "1e1a3db1",
   "metadata": {},
   "outputs": [
    {
     "data": {
      "image/png": "[encoded data removed]",
      "text/plain": [
       "<Figure size 432x288 with 1 Axes>"
      ]
     },
     "metadata": {
      "needs_background": "light"
     },
     "output_type": "display_data"
    }
   ],
   "source": [
    "xx =[]\n",
    "zz = []\n",
    "for i in range(0, 9):\n",
    "    xx.append(i)\n",
    "    zz.append(i*w[0]+i*w[1] + b)\n",
    "plt.scatter(df[\"time_study\"], df[\"Marks\"])\n",
    "plt.plot(xx, zz)\n",
    "plt.show()"
   ]
  },
  {
   "cell_type": "code",
   "execution_count": 80,
   "id": "b402029e",
   "metadata": {},
   "outputs": [],
   "source": [
    "y = df[\"Marks\"]"
   ]
  },
  {
   "cell_type": "code",
   "execution_count": 81,
   "id": "cda87752",
   "metadata": {},
   "outputs": [],
   "source": [
    "# from sklearn.model_selection import train_test_split\n",
    "# X_train, X_test, y_train, y_test = train_test_split(x, y, test_size=0.33, random_state=42)"
   ]
  },
  {
   "cell_type": "code",
   "execution_count": 83,
   "id": "b874535c",
   "metadata": {},
   "outputs": [],
   "source": [
    "# from sklearn.linear_model import LinearRegression\n",
    "# model = LinearRegression()\n",
    "# y_pred =model.fit(X_train, y_train)"
   ]
  },
  {
   "cell_type": "code",
   "execution_count": 90,
   "id": "efb6b32d",
   "metadata": {},
   "outputs": [
    {
     "data": {
      "text/plain": [
       "113.98796073621841"
      ]
     },
     "execution_count": 90,
     "metadata": {},
     "output_type": "execute_result"
    }
   ],
   "source": [
    "# predict([0, 22.508])"
   ]
  },
  {
   "cell_type": "code",
   "execution_count": 91,
   "id": "a5eaf3ea",
   "metadata": {},
   "outputs": [
    {
     "data": {
      "text/plain": [
       "array([113.0801702])"
      ]
     },
     "execution_count": 91,
     "metadata": {},
     "output_type": "execute_result"
    }
   ],
   "source": [
    "# model.predict([[0, 22.508]])"
   ]
  },
  {
   "cell_type": "code",
   "execution_count": null,
   "id": "2e5efb10",
   "metadata": {},
   "outputs": [],
   "source": []
  }
 ],
 "metadata": {
  "kernelspec": {
   "display_name": "Python 3 (ipykernel)",
   "language": "python",
   "name": "python3"
  },
  "language_info": {
   "codemirror_mode": {
    "name": "ipython",
    "version": 3
   },
   "file_extension": ".py",
   "mimetype": "text/x-python",
   "name": "python",
   "nbconvert_exporter": "python",
   "pygments_lexer": "ipython3",
   "version": "3.9.7"
  }
 },
 "nbformat": 4,
 "nbformat_minor": 5
}
